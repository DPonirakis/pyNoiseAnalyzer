{
  "nbformat": 4,
  "nbformat_minor": 0,
  "metadata": {
    "colab": {
      "name": "pam2pyPSD.ipynb",
      "provenance": [],
      "collapsed_sections": [],
      "toc_visible": true,
      "mount_file_id": "1vGjKxPdoJzw-I8vs3LA3GMekk49FTil9",
      "authorship_tag": "ABX9TyPAYru8fIE7hUfXBbkQmqs2",
      "include_colab_link": true
    },
    "kernelspec": {
      "name": "python3",
      "display_name": "Python 3"
    },
    "language_info": {
      "name": "python"
    }
  },
  "cells": [
    {
      "cell_type": "markdown",
      "metadata": {
        "id": "view-in-github",
        "colab_type": "text"
      },
      "source": [
        "<a href=\"https://colab.research.google.com/github/DPonirakis/pyNoiseAnalyzer/blob/main/pam2pyPSD.ipynb\" target=\"_parent\"><img src=\"https://colab.research.google.com/assets/colab-badge.svg\" alt=\"Open In Colab\"/></a>"
      ]
    },
    {
      "cell_type": "code",
      "metadata": {
        "id": "2BorlDTLE4dC"
      },
      "source": [
        "# Computes calibrated acoustic spectra from (lossless) digital audio files.\n",
        "# Adapted from PG_Func.m, by Nathan D. Merchant\n",
        "\n",
        "#WAV format             Min       Max        NumPy dtype\n",
        "#32-bit floating-point -1.0      +1.0        float32\n",
        "#32-bit integer PCM  -2147483648 +2147483647 int32\n",
        "#24-bit integer PCM  -2147483648 +2147483392 int32\n",
        "#16-bit integer PCM  -32768      +32767      int16\n",
        "# 8-bit integer PCM   0           255        uint8\n",
        "\n",
        "import numpy as np\n",
        "import scipy as sp\n",
        "import soundfile as sf\n",
        "import warnings\n",
        "warnings.filterwarnings(\"ignore\", message=\"numpy.dtype size changed\")\n",
        "warnings.filterwarnings(\"ignore\", message=\"numpy.ufunc size changed\")"
      ],
      "execution_count": 63,
      "outputs": []
    },
    {
      "cell_type": "code",
      "metadata": {
        "id": "aIfx3nnJJXW3"
      },
      "source": [
        "#======================================================================\n",
        "A = []\n",
        "f = []\n",
        "t = []\n",
        "#======================================================================\n",
        "S = 0.0\n",
        "olap = 0.5"
      ],
      "execution_count": 64,
      "outputs": []
    },
    {
      "cell_type": "code",
      "metadata": {
        "id": "ouydG_IQJd4I"
      },
      "source": [
        "thesignal, Fs = sf.read('/content/drive/MyDrive/SoundData/PAMguide/WhiteNoise_10s_48kHz_+-0.5.wav',dtype=np.float64) # Let's hope we always get -1 < thedata < 1\n",
        "#thesignal, Fs = sf.read('/content/drive/MyDrive/SoundData/PAMguide/Sine_10s_48kHz_+-0.5.wav',dtype=np.float64) # Let's hope we always get -1 < thedata < 1\n",
        "\n",
        "wlength = 1"
      ],
      "execution_count": 65,
      "outputs": []
    },
    {
      "cell_type": "markdown",
      "metadata": {
        "id": "BiVCzm26gKkL"
      },
      "source": [
        ""
      ]
    },
    {
      "cell_type": "code",
      "metadata": {
        "id": "4B_MNQYRJ6eZ"
      },
      "source": [
        "samples_channels = np.squeeze( thesignal.shape )\n",
        "if samples_channels.size == 1:\n",
        "    samples  = samples_channels\n",
        "    channels = 1\n",
        "    xbit     = thesignal; thesignal = []\n",
        "else:\n",
        "    samples  = samples_channels[0]\n",
        "    channels = samples_channels[1]\n",
        "    xbit     = thesignal[0,:]; thesignal = []"
      ],
      "execution_count": 66,
      "outputs": []
    },
    {
      "cell_type": "code",
      "metadata": {
        "id": "JSdJfng2KH93"
      },
      "source": [
        "xbit = np.float32( xbit ) # Single precision\n",
        "nyquist = int( Fs/2 )\n",
        "N = int( Fs*wlength )\n",
        "\n",
        "Mh = -36-120\n",
        "#Mh = -200\n",
        "Vadc = 1.414\n",
        "#Vadc = 2\n",
        "#G = 0\n",
        "G = 0\n",
        "\n",
        "lcut = 1\n",
        "hcut = nyquist\n",
        "\n",
        "winname = 'Hann'\n",
        "\n",
        "pref = 20\n",
        "#pref = 1"
      ],
      "execution_count": 67,
      "outputs": []
    },
    {
      "cell_type": "code",
      "metadata": {
        "id": "Nb5HtMDN-cPY"
      },
      "source": [
        "S = Mh + G + 20*np.log10(1/Vadc)\n"
      ],
      "execution_count": 68,
      "outputs": []
    },
    {
      "cell_type": "code",
      "metadata": {
        "id": "PhS8a83aLC6X"
      },
      "source": [
        "xl = len(xbit)\n",
        "\n"
      ],
      "execution_count": 69,
      "outputs": []
    },
    {
      "cell_type": "markdown",
      "metadata": {
        "id": "8DRqs2Yyg5Tn"
      },
      "source": [
        "# Mimic MATLAB routine to generate buffer array"
      ]
    },
    {
      "cell_type": "code",
      "metadata": {
        "id": "yZf0xl1bMO1R"
      },
      "source": [
        "def buffer(X, n, p=0, opt=None):\n",
        "    '''Mimic MATLAB routine to generate buffer array\n",
        "\n",
        "    MATLAB docs here: https://se.mathworks.com/help/signal/ref/buffer.html\n",
        "\n",
        "    Parameters\n",
        "    ----------\n",
        "    x: ndarray\n",
        "        Signal array\n",
        "    n: int\n",
        "        Number of data segments\n",
        "    p: int\n",
        "        Number of values to overlap\n",
        "    opt: str\n",
        "        Initial condition options. default sets the first `p` values to zero,\n",
        "        while 'nodelay' begins filling the buffer immediately.\n",
        "\n",
        "    Returns\n",
        "    -------\n",
        "    result : (n,n) ndarray\n",
        "        Buffer array created from X\n",
        "    '''\n",
        "\n",
        "    n = int(n)\n",
        "\n",
        "    import numpy as np\n",
        "\n",
        "    if opt not in [None, 'nodelay']:\n",
        "        raise ValueError('{} not implemented'.format(opt))\n",
        "\n",
        "    i = 0\n",
        "    first_iter = True\n",
        "    while i < len(X):\n",
        "        if first_iter:\n",
        "            if opt == 'nodelay':\n",
        "                # No zeros at array start\n",
        "                result = X[:n]\n",
        "                i = n\n",
        "            else:\n",
        "                # Start with `p` zeros\n",
        "                result = np.hstack([np.zeros(p), X[:n-p]])\n",
        "                i = n-p\n",
        "            # Make 2D array and pivot\n",
        "            result = np.expand_dims(result, axis=0).T\n",
        "            first_iter = False\n",
        "            continue\n",
        "\n",
        "        # Create next column, add `p` results from last col if given\n",
        "        col = X[i:i+int(np.floor(n-p))]\n",
        "        if p != 0:\n",
        "            col = np.hstack([result[:,-1][-p:], col])\n",
        "        i += n-p\n",
        "\n",
        "        # Append zeros if last row and not length `n`\n",
        "        if len(col) < n:\n",
        "            col = np.hstack([col, np.zeros(n-len(col))])\n",
        "\n",
        "        # Combine result with next row\n",
        "        result = np.hstack([result, np.expand_dims(col, axis=0).T])\n",
        "\n",
        "    return result"
      ],
      "execution_count": 70,
      "outputs": []
    },
    {
      "cell_type": "code",
      "metadata": {
        "colab": {
          "base_uri": "https://localhost:8080/"
        },
        "id": "kJC8HyFjMQ0m",
        "outputId": "62183247-5a97-4875-d52a-2862004b1c8a"
      },
      "source": [
        "#xbit[N:]\n",
        "np.ceil(N*olap)\n",
        "xgrid = buffer(xbit,N,int(np.ceil(N*olap)),'nodelay')\n",
        "xgrid = np.transpose(xgrid)\n",
        "\n",
        "np.shape(xgrid)\n"
      ],
      "execution_count": 71,
      "outputs": [
        {
          "output_type": "execute_result",
          "data": {
            "text/plain": [
              "(19, 48000)"
            ]
          },
          "metadata": {},
          "execution_count": 71
        }
      ]
    },
    {
      "cell_type": "code",
      "metadata": {
        "colab": {
          "base_uri": "https://localhost:8080/"
        },
        "id": "y78REJVrlCmT",
        "outputId": "00fd371f-f68c-4d0d-e907-580825ad3976"
      },
      "source": [
        "M = len(xgrid[:,1])\n",
        "M"
      ],
      "execution_count": 72,
      "outputs": [
        {
          "output_type": "execute_result",
          "data": {
            "text/plain": [
              "19"
            ]
          },
          "metadata": {},
          "execution_count": 72
        }
      ]
    },
    {
      "cell_type": "markdown",
      "metadata": {
        "id": "xexN8XDIX6lw"
      },
      "source": [
        "# Equation (6) - Create a Hann Window"
      ]
    },
    {
      "cell_type": "code",
      "metadata": {
        "id": "3Mxb-Zh0Ufy7"
      },
      "source": [
        "#create a Hann window\n",
        "\n",
        "w = (0.5 - 0.5*np.cos(2*np.pi*np.linspace(1,N,N)/N))\n",
        "alpha = 0.5 #scaling factor"
      ],
      "execution_count": 73,
      "outputs": []
    },
    {
      "cell_type": "code",
      "metadata": {
        "colab": {
          "base_uri": "https://localhost:8080/",
          "height": 265
        },
        "id": "TrwDO977V6jx",
        "outputId": "22ebffc5-eebf-440b-c5a7-f4dabe214fb8"
      },
      "source": [
        "import matplotlib.pyplot as plt\n",
        "\n",
        "plt.plot(w, linestyle = 'dotted')\n",
        "plt.show()"
      ],
      "execution_count": 74,
      "outputs": [
        {
          "output_type": "display_data",
          "data": {
            "image/png": "[encoded data removed]",
            "text/plain": [
              "<Figure size 432x288 with 1 Axes>"
            ]
          },
          "metadata": {
            "needs_background": "light"
          }
        }
      ]
    },
    {
      "cell_type": "markdown",
      "metadata": {
        "id": "PEWbON74YDvC"
      },
      "source": [
        "# Multiply Segments by Window Function (Hann)"
      ]
    },
    {
      "cell_type": "code",
      "metadata": {
        "id": "VcSXMM5mWCnS"
      },
      "source": [
        "xgrid = xgrid*np.tile(w/alpha,[M,1])"
      ],
      "execution_count": 75,
      "outputs": []
    },
    {
      "cell_type": "code",
      "metadata": {
        "colab": {
          "base_uri": "https://localhost:8080/",
          "height": 265
        },
        "id": "nfQrXVVvW8_j",
        "outputId": "857bed48-fe57-428a-c52f-b16e654ba258"
      },
      "source": [
        "plt.plot(xgrid[M-1,:], linestyle = '-')\n",
        "plt.show()"
      ],
      "execution_count": 76,
      "outputs": [
        {
          "output_type": "display_data",
          "data": {
            "image/png": "[encoded data removed]",
            "text/plain": [
              "<Figure size 432x288 with 1 Axes>"
            ]
          },
          "metadata": {
            "needs_background": "light"
          }
        }
      ]
    },
    {
      "cell_type": "markdown",
      "metadata": {
        "id": "Kkh00LhgZJ-I"
      },
      "source": [
        "# Equation (7) - Compute DFT"
      ]
    },
    {
      "cell_type": "code",
      "metadata": {
        "colab": {
          "base_uri": "https://localhost:8080/"
        },
        "id": "kbc0dOE2XerG",
        "outputId": "a6411e4a-5e08-4d54-e48a-9b198922f48f"
      },
      "source": [
        "X = abs(sp.fft.fft(xgrid))\n",
        "\n",
        "np.shape(X)"
      ],
      "execution_count": 77,
      "outputs": [
        {
          "output_type": "execute_result",
          "data": {
            "text/plain": [
              "(19, 48000)"
            ]
          },
          "metadata": {},
          "execution_count": 77
        }
      ]
    },
    {
      "cell_type": "markdown",
      "metadata": {
        "id": "NTu-d9gMZoZm"
      },
      "source": [
        "# Equation (8) - Compute Power Spectrum\n"
      ]
    },
    {
      "cell_type": "code",
      "metadata": {
        "colab": {
          "base_uri": "https://localhost:8080/"
        },
        "id": "LzFD4QiFZvXD",
        "outputId": "a00f1a01-f7d7-409b-b46c-b129b57d23d1"
      },
      "source": [
        "P = (X/N)**2;                      #power spectrum = square of amplitude\n",
        "\n",
        "np.shape(P)"
      ],
      "execution_count": 78,
      "outputs": [
        {
          "output_type": "execute_result",
          "data": {
            "text/plain": [
              "(19, 48000)"
            ]
          },
          "metadata": {},
          "execution_count": 78
        }
      ]
    },
    {
      "cell_type": "markdown",
      "metadata": {
        "id": "CJVkfHtfZ7vQ"
      },
      "source": [
        "# Equation (9) - Compute single-sided power spectrum\n",
        "\n",
        "remove DC (0 Hz) component and \n",
        "frequencies above Nyquist frequency\n",
        "Fs/2 (index of Fs/2 = N/2+1), divide\n",
        "by noise power bandwidth"
      ]
    },
    {
      "cell_type": "code",
      "metadata": {
        "colab": {
          "base_uri": "https://localhost:8080/"
        },
        "id": "k3fXvmLQaGxG",
        "outputId": "ed3ba7dc-f834-4ca9-f928-57e131f598d6"
      },
      "source": [
        "Pss = 2*P[:,1:int(np.floor(N/2)+1)]\n",
        "\n",
        "np.shape(Pss)"
      ],
      "execution_count": 79,
      "outputs": [
        {
          "output_type": "execute_result",
          "data": {
            "text/plain": [
              "(19, 24000)"
            ]
          },
          "metadata": {},
          "execution_count": 79
        }
      ]
    },
    {
      "cell_type": "markdown",
      "metadata": {
        "id": "hYPWfETYe0BR"
      },
      "source": [
        "# compute frequencies of DFT bins"
      ]
    },
    {
      "cell_type": "code",
      "metadata": {
        "colab": {
          "base_uri": "https://localhost:8080/"
        },
        "id": "M81uIj-Qe6SO",
        "outputId": "a9bba114-dacd-4839-dd42-c08e3109811a"
      },
      "source": [
        "f = np.floor(Fs/2)*np.linspace(1/(N/2),1,int(N/2))\n",
        "\n",
        "f\n",
        "\n",
        "np.shape(f)"
      ],
      "execution_count": 80,
      "outputs": [
        {
          "output_type": "execute_result",
          "data": {
            "text/plain": [
              "(24000,)"
            ]
          },
          "metadata": {},
          "execution_count": 80
        }
      ]
    },
    {
      "cell_type": "code",
      "metadata": {
        "colab": {
          "base_uri": "https://localhost:8080/"
        },
        "id": "9BtQUyxKN48v",
        "outputId": "2145c0b6-130f-454b-e3f6-3a1bf616dde9"
      },
      "source": [
        "flow = np.where((f >= lcut) & (f<=hcut))\n",
        "f = f[flow]\n",
        "nf = len(f)\n",
        "nf"
      ],
      "execution_count": 81,
      "outputs": [
        {
          "output_type": "execute_result",
          "data": {
            "text/plain": [
              "24000"
            ]
          },
          "metadata": {},
          "execution_count": 81
        }
      ]
    },
    {
      "cell_type": "markdown",
      "metadata": {
        "id": "eoaAbRidRqer"
      },
      "source": [
        "# Compute noise power bandwidth and delta(f)"
      ]
    },
    {
      "cell_type": "code",
      "metadata": {
        "colab": {
          "base_uri": "https://localhost:8080/"
        },
        "id": "Tg3NEW5GRuv4",
        "outputId": "7e95194d-fe3a-4679-e8c6-b470d5c5dae8"
      },
      "source": [
        "B = (1/N)*(np.sum((w/alpha)**2))\n",
        "delf = Fs/N\n",
        "\n",
        "print(B)"
      ],
      "execution_count": 82,
      "outputs": [
        {
          "output_type": "stream",
          "name": "stdout",
          "text": [
            "1.5\n"
          ]
        }
      ]
    },
    {
      "cell_type": "code",
      "metadata": {
        "colab": {
          "base_uri": "https://localhost:8080/"
        },
        "id": "aRUYC4uEcXrQ",
        "outputId": "9a9be652-f4dc-4240-c4f2-aa081f2cfde5"
      },
      "source": [
        "print(flow[0])"
      ],
      "execution_count": 83,
      "outputs": [
        {
          "output_type": "stream",
          "name": "stdout",
          "text": [
            "[    0     1     2 ... 23997 23998 23999]\n"
          ]
        }
      ]
    },
    {
      "cell_type": "markdown",
      "metadata": {
        "id": "myvoa-8JSRv1"
      },
      "source": [
        "#Equation (11) Convert Pss to PSD\n"
      ]
    },
    {
      "cell_type": "code",
      "metadata": {
        "id": "k6a8RCwCSWnI",
        "colab": {
          "base_uri": "https://localhost:8080/"
        },
        "outputId": "6d8aeb80-2b5b-4f7e-c084-a15393705aa9"
      },
      "source": [
        "a = np.squeeze(np.round(10*np.log10((1/(delf*B))*Pss[:,flow]/(pref**2))-S,1))\n",
        "\n",
        "print(a)"
      ],
      "execution_count": 84,
      "outputs": [
        {
          "output_type": "stream",
          "name": "stdout",
          "text": [
            "[[80.3 77.3 67.1 ... 78.  76.7 63.3]\n",
            " [64.6 72.5 67.  ... 73.  80.7 83.6]\n",
            " [72.3 75.6 80.9 ... 80.4 81.7 78.3]\n",
            " ...\n",
            " [81.4 72.3 71.  ... 70.8 73.1 73.5]\n",
            " [81.4 79.1 77.3 ... 83.  77.4 72.2]\n",
            " [74.  73.3 72.2 ... 80.  78.8 73.9]]\n"
          ]
        }
      ]
    },
    {
      "cell_type": "markdown",
      "metadata": {
        "id": "tfJiRQgZTz7j"
      },
      "source": [
        "# Compute Time Vector"
      ]
    },
    {
      "cell_type": "code",
      "metadata": {
        "colab": {
          "base_uri": "https://localhost:8080/"
        },
        "id": "DPXGW4DGT4-q",
        "outputId": "66b96638-7898-4fd2-bfbf-2bfa47356088"
      },
      "source": [
        "tint = (1-olap)*N/Fs\n",
        "ttot = M*tint-tint\n",
        "t = np.linspace(0,ttot,int(ttot/tint+1))\n",
        "t"
      ],
      "execution_count": 85,
      "outputs": [
        {
          "output_type": "execute_result",
          "data": {
            "text/plain": [
              "array([0. , 0.5, 1. , 1.5, 2. , 2.5, 3. , 3.5, 4. , 4.5, 5. , 5.5, 6. ,\n",
              "       6.5, 7. , 7.5, 8. , 8.5, 9. ])"
            ]
          },
          "metadata": {},
          "execution_count": 85
        }
      ]
    },
    {
      "cell_type": "markdown",
      "metadata": {
        "id": "rZ90P_J8VaRB"
      },
      "source": [
        "# Construct and output array"
      ]
    },
    {
      "cell_type": "code",
      "metadata": {
        "id": "L4oHRPJXVi8X"
      },
      "source": [
        "#a = np.ndarray.flatten(a)\n",
        "#A = np.column_stack((f,np.around(a,1)))\n",
        "\n",
        "A = np.zeros((M+1,nf+1))\n",
        "\n",
        "A[1:M+1,1:nf+1] = a\n",
        "\n",
        "A[0,1:nf+1] = f\n",
        "A[1:M+1,0] = t"
      ],
      "execution_count": 86,
      "outputs": []
    },
    {
      "cell_type": "markdown",
      "metadata": {
        "id": "2TApbN5CfJba"
      },
      "source": [
        "# Plot the Data"
      ]
    },
    {
      "cell_type": "code",
      "metadata": {
        "id": "IO9mfytnfNu-",
        "colab": {
          "base_uri": "https://localhost:8080/",
          "height": 295
        },
        "outputId": "f169357f-f743-4477-e113-e83d65b4acd9"
      },
      "source": [
        "import matplotlib.pyplot as plt\n",
        "\n",
        "z_min, z_max = a.min(), a.max()\n",
        "\n",
        "fig, ax = plt.subplots()\n",
        "\n",
        "\n",
        "c = ax.imshow(a.transpose(),cmap ='magma', vmin = z_min, vmax = z_max,\n",
        "                 extent =[t.min(), t.max(), 0, len(f)],\n",
        "                    interpolation ='none', origin ='lower', aspect='auto')\n",
        "ax.ticklabel_format(useOffset=False)\n",
        "\n",
        "#ax.set_yticks(np.arange(0,30,3))\n",
        "#ax.set_yticklabels(np.round(f[(np.arange(0,30,3))],1))\n",
        "\n",
        "plt.colorbar(c,label = 'PSD [dB re 20 $\\mu$Pa$^2$ Hz$^{-1}$]')\n",
        "\n",
        "#plt.gca().invert_yaxis()\n",
        "\n",
        "plt.xlabel('Time [s]')\n",
        "plt.ylabel('Frequency [Hz]')\n",
        "plt.title('WhiteNoise_10s_48kHz_+-0.5.wav')\n",
        "\n",
        "plt.show()"
      ],
      "execution_count": 99,
      "outputs": [
        {
          "output_type": "display_data",
          "data": {
            "image/png": "[encoded data removed]",
            "text/plain": [
              "<Figure size 432x288 with 2 Axes>"
            ]
          },
          "metadata": {
            "needs_background": "light"
          }
        }
      ]
    }
  ]
}