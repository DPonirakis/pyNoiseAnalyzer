{
  "nbformat": 4,
  "nbformat_minor": 0,
  "metadata": {
    "colab": {
      "name": "TerrestrialSoundPrpagationModel.ipynb",
      "provenance": [],
      "collapsed_sections": [],
      "authorship_tag": "ABX9TyMwvZsFSdmpaX4HRn1UKZX4",
      "include_colab_link": true
    },
    "kernelspec": {
      "name": "python3",
      "display_name": "Python 3"
    },
    "language_info": {
      "name": "python"
    }
  },
  "cells": [
    {
      "cell_type": "markdown",
      "metadata": {
        "id": "view-in-github",
        "colab_type": "text"
      },
      "source": [
        "<a href=\"https://colab.research.google.com/github/DPonirakis/pyNoiseAnalyzer/blob/main/TerrestrialSoundPrpagationModel.ipynb\" target=\"_parent\"><img src=\"https://colab.research.google.com/assets/colab-badge.svg\" alt=\"Open In Colab\"/></a>"
      ]
    },
    {
      "cell_type": "code",
      "metadata": {
        "id": "LMSRY38e4STx"
      },
      "source": [
        "import numpy as np\n",
        "\n",
        "alpha = 0 # absorption\n",
        "Lw = 100  # Sound Power Level\n",
        "r = 50    # Range (m)\n",
        "DI = 0    # Directivity"
      ],
      "execution_count": 12,
      "outputs": []
    },
    {
      "cell_type": "code",
      "metadata": {
        "id": "8VyvzhpM7Yb2"
      },
      "source": [
        "def simplePropModel(alpha,Lw,r,DI):\n",
        "  return np.round(Lw-20*np.log10(r)-11+DI, decimals=1)"
      ],
      "execution_count": 14,
      "outputs": []
    },
    {
      "cell_type": "code",
      "metadata": {
        "colab": {
          "base_uri": "https://localhost:8080/"
        },
        "id": "jbnaRexq7ccO",
        "outputId": "0e1201c8-c6bc-489b-bb41-f70225c1e4a7"
      },
      "source": [
        "Lp = simplePropModel(alpha,Lw,r,DI)\n",
        "print(Lp)"
      ],
      "execution_count": 15,
      "outputs": [
        {
          "output_type": "stream",
          "name": "stdout",
          "text": [
            "55.0\n"
          ]
        }
      ]
    }
  ]
}