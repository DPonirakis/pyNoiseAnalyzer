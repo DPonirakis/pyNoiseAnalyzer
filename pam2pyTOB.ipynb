{
  "nbformat": 4,
  "nbformat_minor": 0,
  "metadata": {
    "colab": {
      "name": "pam2pyTOB.ipynb",
      "provenance": [],
      "collapsed_sections": [],
      "toc_visible": true,
      "mount_file_id": "10TMNYSFSV-hyzbpfh39Y0GDdU5kG4SvC",
      "authorship_tag": "ABX9TyO197kxaCXkQHv37Ku7+N1q",
      "include_colab_link": true
    },
    "kernelspec": {
      "name": "python3",
      "display_name": "Python 3"
    },
    "language_info": {
      "name": "python"
    }
  },
  "cells": [
    {
      "cell_type": "markdown",
      "metadata": {
        "id": "view-in-github",
        "colab_type": "text"
      },
      "source": [
        "<a href=\"https://colab.research.google.com/github/DPonirakis/pyNoiseAnalyzer/blob/main/pam2pyTOB.ipynb\" target=\"_parent\"><img src=\"https://colab.research.google.com/assets/colab-badge.svg\" alt=\"Open In Colab\"/></a>"
      ]
    },
    {
      "cell_type": "code",
      "metadata": {
        "id": "2BorlDTLE4dC"
      },
      "source": [
        "# Computes calibrated acoustic spectra from (lossless) digital audio files.\n",
        "# Adapted from PG_Func.m, by Nathan D. Merchant\n",
        "\n",
        "#WAV format             Min       Max        NumPy dtype\n",
        "#32-bit floating-point -1.0      +1.0        float32\n",
        "#32-bit integer PCM  -2147483648 +2147483647 int32\n",
        "#24-bit integer PCM  -2147483648 +2147483392 int32\n",
        "#16-bit integer PCM  -32768      +32767      int16\n",
        "# 8-bit integer PCM   0           255        uint8\n",
        "\n",
        "import numpy as np\n",
        "import scipy as sp\n",
        "import soundfile as sf\n",
        "import warnings\n",
        "warnings.filterwarnings(\"ignore\", message=\"numpy.dtype size changed\")\n",
        "warnings.filterwarnings(\"ignore\", message=\"numpy.ufunc size changed\")"
      ],
      "execution_count": 62,
      "outputs": []
    },
    {
      "cell_type": "code",
      "metadata": {
        "id": "aIfx3nnJJXW3"
      },
      "source": [
        "#======================================================================\n",
        "A = []\n",
        "f = []\n",
        "t = []\n",
        "#======================================================================\n",
        "S = 0.0\n",
        "olap = 0.5"
      ],
      "execution_count": 63,
      "outputs": []
    },
    {
      "cell_type": "code",
      "metadata": {
        "id": "ouydG_IQJd4I"
      },
      "source": [
        "thesignal, Fs = sf.read('/content/drive/MyDrive/SoundData/PAMguide/WhiteNoise_10s_48kHz_+-0.5.wav',dtype=np.float64) # Let's hope we always get -1 < thedata < 1\n",
        "\n",
        "wlength = 1"
      ],
      "execution_count": 64,
      "outputs": []
    },
    {
      "cell_type": "markdown",
      "metadata": {
        "id": "BiVCzm26gKkL"
      },
      "source": [
        ""
      ]
    },
    {
      "cell_type": "code",
      "metadata": {
        "id": "4B_MNQYRJ6eZ"
      },
      "source": [
        "samples_channels = np.squeeze( thesignal.shape )\n",
        "if samples_channels.size == 1:\n",
        "    samples  = samples_channels\n",
        "    channels = 1\n",
        "    xbit     = thesignal; thesignal = []\n",
        "else:\n",
        "    samples  = samples_channels[0]\n",
        "    channels = samples_channels[1]\n",
        "    xbit     = thesignal[0,:]; thesignal = []"
      ],
      "execution_count": 65,
      "outputs": []
    },
    {
      "cell_type": "code",
      "metadata": {
        "id": "JSdJfng2KH93"
      },
      "source": [
        "xbit = np.float32( xbit ) # Single precision\n",
        "nyquist = int( Fs/2 )\n",
        "N = int( Fs*wlength )\n",
        "\n",
        "Mh = -36-120\n",
        "#Mh = -200\n",
        "Vadc = 1.414\n",
        "#Vadc = 2\n",
        "#G = 0\n",
        "G = 0\n",
        "\n",
        "lcut = 1\n",
        "hcut = nyquist\n",
        "\n",
        "winname = 'Hann'\n",
        "\n",
        "pref = 20\n",
        "#pref = 1"
      ],
      "execution_count": 122,
      "outputs": []
    },
    {
      "cell_type": "code",
      "metadata": {
        "id": "Nb5HtMDN-cPY"
      },
      "source": [
        "S = Mh + G + 20*np.log10(1/Vadc)\n"
      ],
      "execution_count": 123,
      "outputs": []
    },
    {
      "cell_type": "code",
      "metadata": {
        "id": "PhS8a83aLC6X"
      },
      "source": [
        "xl = len(xbit)\n",
        "\n"
      ],
      "execution_count": 68,
      "outputs": []
    },
    {
      "cell_type": "markdown",
      "metadata": {
        "id": "8DRqs2Yyg5Tn"
      },
      "source": [
        "# Mimic MATLAB routine to generate buffer array"
      ]
    },
    {
      "cell_type": "code",
      "metadata": {
        "id": "yZf0xl1bMO1R"
      },
      "source": [
        "def buffer(X, n, p=0, opt=None):\n",
        "    '''Mimic MATLAB routine to generate buffer array\n",
        "\n",
        "    MATLAB docs here: https://se.mathworks.com/help/signal/ref/buffer.html\n",
        "\n",
        "    Parameters\n",
        "    ----------\n",
        "    x: ndarray\n",
        "        Signal array\n",
        "    n: int\n",
        "        Number of data segments\n",
        "    p: int\n",
        "        Number of values to overlap\n",
        "    opt: str\n",
        "        Initial condition options. default sets the first `p` values to zero,\n",
        "        while 'nodelay' begins filling the buffer immediately.\n",
        "\n",
        "    Returns\n",
        "    -------\n",
        "    result : (n,n) ndarray\n",
        "        Buffer array created from X\n",
        "    '''\n",
        "\n",
        "    n = int(n)\n",
        "\n",
        "    import numpy as np\n",
        "\n",
        "    if opt not in [None, 'nodelay']:\n",
        "        raise ValueError('{} not implemented'.format(opt))\n",
        "\n",
        "    i = 0\n",
        "    first_iter = True\n",
        "    while i < len(X):\n",
        "        if first_iter:\n",
        "            if opt == 'nodelay':\n",
        "                # No zeros at array start\n",
        "                result = X[:n]\n",
        "                i = n\n",
        "            else:\n",
        "                # Start with `p` zeros\n",
        "                result = np.hstack([np.zeros(p), X[:n-p]])\n",
        "                i = n-p\n",
        "            # Make 2D array and pivot\n",
        "            result = np.expand_dims(result, axis=0).T\n",
        "            first_iter = False\n",
        "            continue\n",
        "\n",
        "        # Create next column, add `p` results from last col if given\n",
        "        col = X[i:i+int(np.floor(n-p))]\n",
        "        if p != 0:\n",
        "            col = np.hstack([result[:,-1][-p:], col])\n",
        "        i += n-p\n",
        "\n",
        "        # Append zeros if last row and not length `n`\n",
        "        if len(col) < n:\n",
        "            col = np.hstack([col, np.zeros(n-len(col))])\n",
        "\n",
        "        # Combine result with next row\n",
        "        result = np.hstack([result, np.expand_dims(col, axis=0).T])\n",
        "\n",
        "    return result"
      ],
      "execution_count": 69,
      "outputs": []
    },
    {
      "cell_type": "code",
      "metadata": {
        "colab": {
          "base_uri": "https://localhost:8080/",
          "height": 0
        },
        "id": "kJC8HyFjMQ0m",
        "outputId": "a7f8f9f7-e09c-4561-8357-2b281c5c126e"
      },
      "source": [
        "#xbit[N:]\n",
        "np.ceil(N*olap)\n",
        "xgrid = buffer(xbit,N,int(np.ceil(N*olap)),'nodelay')\n",
        "xgrid = np.transpose(xgrid)\n",
        "\n",
        "np.shape(xgrid)\n"
      ],
      "execution_count": 70,
      "outputs": [
        {
          "output_type": "execute_result",
          "data": {
            "text/plain": [
              "(19, 48000)"
            ]
          },
          "metadata": {},
          "execution_count": 70
        }
      ]
    },
    {
      "cell_type": "code",
      "metadata": {
        "colab": {
          "base_uri": "https://localhost:8080/",
          "height": 0
        },
        "id": "y78REJVrlCmT",
        "outputId": "90783348-dd72-4869-9210-d2e7891f1df5"
      },
      "source": [
        "M = len(xgrid[:,1])\n",
        "M"
      ],
      "execution_count": 71,
      "outputs": [
        {
          "output_type": "execute_result",
          "data": {
            "text/plain": [
              "19"
            ]
          },
          "metadata": {},
          "execution_count": 71
        }
      ]
    },
    {
      "cell_type": "markdown",
      "metadata": {
        "id": "xexN8XDIX6lw"
      },
      "source": [
        "# Equation (6) - Create a Hann Window"
      ]
    },
    {
      "cell_type": "code",
      "metadata": {
        "id": "3Mxb-Zh0Ufy7"
      },
      "source": [
        "#create a Hann window\n",
        "\n",
        "w = (0.5 - 0.5*np.cos(2*np.pi*np.linspace(1,N,N)/N))\n",
        "alpha = 0.5 #scaling factor"
      ],
      "execution_count": 72,
      "outputs": []
    },
    {
      "cell_type": "code",
      "metadata": {
        "colab": {
          "base_uri": "https://localhost:8080/",
          "height": 265
        },
        "id": "TrwDO977V6jx",
        "outputId": "bae0a592-d4b5-488e-cf60-49350521adc7"
      },
      "source": [
        "import matplotlib.pyplot as plt\n",
        "\n",
        "plt.plot(w, linestyle = 'dotted')\n",
        "plt.show()"
      ],
      "execution_count": 73,
      "outputs": [
        {
          "output_type": "display_data",
          "data": {
            "image/png": "[encoded data removed]",
            "text/plain": [
              "<Figure size 432x288 with 1 Axes>"
            ]
          },
          "metadata": {
            "needs_background": "light"
          }
        }
      ]
    },
    {
      "cell_type": "markdown",
      "metadata": {
        "id": "PEWbON74YDvC"
      },
      "source": [
        "# Multiply Segments by Window Function (Hann)"
      ]
    },
    {
      "cell_type": "code",
      "metadata": {
        "id": "VcSXMM5mWCnS"
      },
      "source": [
        "xgrid = xgrid*np.tile(w/alpha,[M,1])"
      ],
      "execution_count": 74,
      "outputs": []
    },
    {
      "cell_type": "code",
      "metadata": {
        "colab": {
          "base_uri": "https://localhost:8080/",
          "height": 265
        },
        "id": "nfQrXVVvW8_j",
        "outputId": "52eb4e34-4bdb-456e-ddd4-c7776b7e653c"
      },
      "source": [
        "plt.plot(xgrid[M-1,:], linestyle = '-')\n",
        "plt.show()"
      ],
      "execution_count": 75,
      "outputs": [
        {
          "output_type": "display_data",
          "data": {
            "image/png": "[encoded data removed]",
            "text/plain": [
              "<Figure size 432x288 with 1 Axes>"
            ]
          },
          "metadata": {
            "needs_background": "light"
          }
        }
      ]
    },
    {
      "cell_type": "markdown",
      "metadata": {
        "id": "Kkh00LhgZJ-I"
      },
      "source": [
        "# Equation (7) - Compute DFT"
      ]
    },
    {
      "cell_type": "code",
      "metadata": {
        "colab": {
          "base_uri": "https://localhost:8080/",
          "height": 0
        },
        "id": "kbc0dOE2XerG",
        "outputId": "e67858a7-c965-4cad-b3a6-9cdad2f7b1d6"
      },
      "source": [
        "X = abs(sp.fft.fft(xgrid))\n",
        "\n",
        "np.shape(X)"
      ],
      "execution_count": 76,
      "outputs": [
        {
          "output_type": "execute_result",
          "data": {
            "text/plain": [
              "(19, 48000)"
            ]
          },
          "metadata": {},
          "execution_count": 76
        }
      ]
    },
    {
      "cell_type": "markdown",
      "metadata": {
        "id": "NTu-d9gMZoZm"
      },
      "source": [
        "# Equation (8) - Compute Power Spectrum\n"
      ]
    },
    {
      "cell_type": "code",
      "metadata": {
        "colab": {
          "base_uri": "https://localhost:8080/",
          "height": 0
        },
        "id": "LzFD4QiFZvXD",
        "outputId": "d55648a9-de09-44ea-e0ec-d118feab158e"
      },
      "source": [
        "P = (X/N)**2;                      #power spectrum = square of amplitude\n",
        "\n",
        "np.shape(P)"
      ],
      "execution_count": 77,
      "outputs": [
        {
          "output_type": "execute_result",
          "data": {
            "text/plain": [
              "(19, 48000)"
            ]
          },
          "metadata": {},
          "execution_count": 77
        }
      ]
    },
    {
      "cell_type": "markdown",
      "metadata": {
        "id": "CJVkfHtfZ7vQ"
      },
      "source": [
        "# Equation (9) - Compute single-sided power spectrum\n",
        "\n",
        "remove DC (0 Hz) component and \n",
        "frequencies above Nyquist frequency\n",
        "Fs/2 (index of Fs/2 = N/2+1), divide\n",
        "by noise power bandwidth"
      ]
    },
    {
      "cell_type": "code",
      "metadata": {
        "colab": {
          "base_uri": "https://localhost:8080/",
          "height": 0
        },
        "id": "k3fXvmLQaGxG",
        "outputId": "94594ec9-0e7d-4d91-d18d-ff5af97b2263"
      },
      "source": [
        "Pss = 2*P[:,1:int(np.floor(N/2)+1)]\n",
        "\n",
        "np.shape(Pss)"
      ],
      "execution_count": 78,
      "outputs": [
        {
          "output_type": "execute_result",
          "data": {
            "text/plain": [
              "(19, 24000)"
            ]
          },
          "metadata": {},
          "execution_count": 78
        }
      ]
    },
    {
      "cell_type": "markdown",
      "metadata": {
        "id": "hYPWfETYe0BR"
      },
      "source": [
        "# compute frequencies of DFT bins"
      ]
    },
    {
      "cell_type": "code",
      "metadata": {
        "colab": {
          "base_uri": "https://localhost:8080/",
          "height": 0
        },
        "id": "M81uIj-Qe6SO",
        "outputId": "644416e4-9cf2-45f9-d687-ce8804617b0f"
      },
      "source": [
        "f = np.floor(Fs/2)*np.linspace(1/(N/2),1,int(N/2))\n",
        "\n",
        "f\n",
        "\n",
        "np.shape(f)"
      ],
      "execution_count": 79,
      "outputs": [
        {
          "output_type": "execute_result",
          "data": {
            "text/plain": [
              "(24000,)"
            ]
          },
          "metadata": {},
          "execution_count": 79
        }
      ]
    },
    {
      "cell_type": "code",
      "metadata": {
        "colab": {
          "base_uri": "https://localhost:8080/",
          "height": 0
        },
        "id": "9BtQUyxKN48v",
        "outputId": "53120a91-52c3-44e7-882c-858773a7d86e"
      },
      "source": [
        "flow = np.where((f >= lcut) & (f<=hcut))\n",
        "f = f[flow]\n",
        "nf = len(f)\n",
        "nf"
      ],
      "execution_count": 80,
      "outputs": [
        {
          "output_type": "execute_result",
          "data": {
            "text/plain": [
              "24000"
            ]
          },
          "metadata": {},
          "execution_count": 80
        }
      ]
    },
    {
      "cell_type": "markdown",
      "metadata": {
        "id": "eoaAbRidRqer"
      },
      "source": [
        "# Compute noise power bandwidth and delta(f)"
      ]
    },
    {
      "cell_type": "code",
      "metadata": {
        "colab": {
          "base_uri": "https://localhost:8080/",
          "height": 0
        },
        "id": "Tg3NEW5GRuv4",
        "outputId": "23a20209-097e-40b3-b8b2-14d63b932a49"
      },
      "source": [
        "B = (1/N)*(np.sum((w/alpha)**2))\n",
        "delf = Fs/N\n",
        "\n",
        "print(B)"
      ],
      "execution_count": 81,
      "outputs": [
        {
          "output_type": "stream",
          "name": "stdout",
          "text": [
            "1.5\n"
          ]
        }
      ]
    },
    {
      "cell_type": "code",
      "metadata": {
        "colab": {
          "base_uri": "https://localhost:8080/",
          "height": 0
        },
        "id": "aRUYC4uEcXrQ",
        "outputId": "bb7e4aea-afbc-4607-c666-593582e1c6e4"
      },
      "source": [
        "print(flow[0])"
      ],
      "execution_count": 82,
      "outputs": [
        {
          "output_type": "stream",
          "name": "stdout",
          "text": [
            "[    0     1     2 ... 23997 23998 23999]\n"
          ]
        }
      ]
    },
    {
      "cell_type": "markdown",
      "metadata": {
        "id": "myvoa-8JSRv1"
      },
      "source": [
        "# 1/3 octave analysis\n"
      ]
    },
    {
      "cell_type": "code",
      "metadata": {
        "id": "k6a8RCwCSWnI"
      },
      "source": [
        "if lcut < 25:\n",
        "  lcut = 25\n"
      ],
      "execution_count": 83,
      "outputs": []
    },
    {
      "cell_type": "markdown",
      "metadata": {
        "id": "xeYt29kPi043"
      },
      "source": [
        "#(Equation 13) Build TOL frequency"
      ]
    },
    {
      "cell_type": "code",
      "metadata": {
        "colab": {
          "base_uri": "https://localhost:8080/",
          "height": 0
        },
        "id": "fIaq8zDehOSa",
        "outputId": "1e0c5a69-9846-4f9e-e776-dbb636eb5203"
      },
      "source": [
        "  lobandf = np.floor(np.log10(lcut)) #lowest power of 10 frequency for 1/3 \n",
        "  # octave band computation\n",
        "  hibandf = np.ceil(np.log10(hcut));  #highest \"\"\n",
        "  nband = 10*(hibandf-lobandf)+1;     #number of 1/3-octave bands\n",
        "  fc = np.zeros((1,int(nband)));      #initialise 1/3-octave frequency vector\n",
        "  fc[0][0] = 10**lobandf;             #lowest frequency = lowest power of 10\n",
        "\n",
        "#get the center frequencies\n",
        "  for i in range(1,int(nband)):\n",
        "    fc[0][i] = fc[0][i-1]*10**0.1\n",
        "\n",
        "fc = np.squeeze(fc)\n",
        "fc = fc[np.logical_and(fc>lcut, fc <=hcut)] #crop to cutoff freq's\n",
        "\n",
        "nfc = len(fc) #number of TOL bands\n",
        "\n",
        "print(nfc)\n"
      ],
      "execution_count": 84,
      "outputs": [
        {
          "output_type": "stream",
          "name": "stdout",
          "text": [
            "30\n"
          ]
        }
      ]
    },
    {
      "cell_type": "markdown",
      "metadata": {
        "id": "P0Xy1tQq0MOL"
      },
      "source": [
        "#(Equations 14-15) Calculate Boundary Frequencies for each band"
      ]
    },
    {
      "cell_type": "code",
      "metadata": {
        "colab": {
          "base_uri": "https://localhost:8080/",
          "height": 0
        },
        "id": "m6a7kRxx0dXq",
        "outputId": "0c478586-0d39-4a34-c834-8ce51cefeb9c"
      },
      "source": [
        "fb = fc*10**-0.05 #calculate lower bounds from Fc\n",
        "fb = np.append(fb,fc[nfc-1]*10**0.05) #calculate upper bounds from Fc\n",
        "print(hcut)"
      ],
      "execution_count": 85,
      "outputs": [
        {
          "output_type": "stream",
          "name": "stdout",
          "text": [
            "24000\n"
          ]
        }
      ]
    },
    {
      "cell_type": "markdown",
      "metadata": {
        "id": "PNutx3S33BQu"
      },
      "source": [
        "#(Equation 16) Calculate 1/3-octave band levels"
      ]
    },
    {
      "cell_type": "code",
      "metadata": {
        "id": "lv3qMiIH3Eyc"
      },
      "source": [
        "P13 = np.zeros((M,nfc)) #create the array to hold the TOL data\n",
        "\n",
        "for i in range(0, nfc): #loop through center frequencies\n",
        "  fall = np.logical_and(f >= fb[i], f < fb[i+1]) #index freq's falling into band\n",
        "\n",
        "  for q in range(0,M): # loop through DFT's of data segments\n",
        "    fcl = np.sum(Pss[q,fall]) # integrate over m'th band frequencies\n",
        "    P13[q,i] = fcl #store TOL value\n",
        "\n",
        "\n",
        "if np.all(10*np.log10(P13[0][:]/(pref**2))  <= -10**6):\n",
        "  lowcut = np.where(10*np.log10(P13[0][:]/(pref**2))  <= -10**6)\n",
        "\n",
        "  P13 = P13[:,lowcut[np.size(lowcut)-1]:nfc-1]\n",
        "  fb = fb[lowcut[np.size(lowcut)-1]:nfc]\n",
        "  fc = fc[lowcut[np.size(lowcut)-1]:nfc-1]\n",
        "  nfc = len(fc)\n",
        "\n",
        "a = 10*np.log10((1/B)*P13/(pref**2))-S"
      ],
      "execution_count": 152,
      "outputs": []
    },
    {
      "cell_type": "markdown",
      "metadata": {
        "id": "tfJiRQgZTz7j"
      },
      "source": [
        "# Compute Time Vector"
      ]
    },
    {
      "cell_type": "code",
      "metadata": {
        "colab": {
          "base_uri": "https://localhost:8080/"
        },
        "id": "DPXGW4DGT4-q",
        "outputId": "724437db-c84e-4ef1-9f72-0b11f7bb1139"
      },
      "source": [
        "tint = (1-olap)*N/Fs\n",
        "ttot = M*tint-tint\n",
        "t = np.linspace(0,ttot,int(ttot/tint+1))\n",
        "t"
      ],
      "execution_count": 176,
      "outputs": [
        {
          "output_type": "execute_result",
          "data": {
            "text/plain": [
              "array([0. , 0.5, 1. , 1.5, 2. , 2.5, 3. , 3.5, 4. , 4.5, 5. , 5.5, 6. ,\n",
              "       6.5, 7. , 7.5, 8. , 8.5, 9. ])"
            ]
          },
          "metadata": {},
          "execution_count": 176
        }
      ]
    },
    {
      "cell_type": "markdown",
      "metadata": {
        "id": "rZ90P_J8VaRB"
      },
      "source": [
        "# Construct and output array"
      ]
    },
    {
      "cell_type": "code",
      "metadata": {
        "id": "L4oHRPJXVi8X"
      },
      "source": [
        "#a = np.ndarray.flatten(a)\n",
        "#A = np.column_stack((f,np.around(a,1)))\n",
        "\n",
        "A = np.zeros((M+1,nfc+1))\n",
        "\n",
        "A[1:M+1,1:nfc+1] = a\n",
        "\n",
        "A[0,1:nfc+1] = fc\n",
        "A[1:M+1,0] = t\n",
        "f = fc"
      ],
      "execution_count": 177,
      "outputs": []
    },
    {
      "cell_type": "markdown",
      "metadata": {
        "id": "2TApbN5CfJba"
      },
      "source": [
        "# Plot the Data"
      ]
    },
    {
      "cell_type": "code",
      "metadata": {
        "id": "IO9mfytnfNu-",
        "colab": {
          "base_uri": "https://localhost:8080/",
          "height": 295
        },
        "outputId": "1b09940f-ddd1-47b6-d9f5-47c57709f0c6"
      },
      "source": [
        "import matplotlib.pyplot as plt\n",
        "\n",
        "z_min, z_max = a.min(), a.max()\n",
        "\n",
        "fig, ax = plt.subplots()\n",
        "\n",
        "\n",
        "c = ax.imshow(a.transpose(),cmap ='magma', vmin = z_min, vmax = z_max,\n",
        "                 extent =[t.min(), t.max(), 0, len(f)],\n",
        "                    interpolation ='none', origin ='lower', aspect='auto')\n",
        "ax.ticklabel_format(useOffset=False)\n",
        "\n",
        "ax.set_yticks(np.arange(0,30,3))\n",
        "ax.set_yticklabels(np.round(f[(np.arange(0,30,3))],1))\n",
        "\n",
        "plt.colorbar(c,label = '1/3-Octave SPL [dB re 20 $\\mu$Pa]')\n",
        "\n",
        "#plt.gca().invert_yaxis()\n",
        "\n",
        "plt.xlabel('Time [s]')\n",
        "plt.ylabel('Frequency [Hz]')\n",
        "plt.title('WhiteNoise_10s_48kHz_+-0.5.wav')\n",
        "\n",
        "plt.show()"
      ],
      "execution_count": 244,
      "outputs": [
        {
          "output_type": "display_data",
          "data": {
            "image/png": "[encoded data removed]",
            "text/plain": [
              "<Figure size 432x288 with 2 Axes>"
            ]
          },
          "metadata": {
            "needs_background": "light"
          }
        }
      ]
    }
  ]
}