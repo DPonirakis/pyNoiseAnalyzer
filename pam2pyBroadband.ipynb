{
  "nbformat": 4,
  "nbformat_minor": 0,
  "metadata": {
    "colab": {
      "name": "pam2pyBroadband.ipynb",
      "provenance": [],
      "collapsed_sections": [],
      "toc_visible": true,
      "mount_file_id": "15aTUZvT1vtPryKlTCtIR6yyxgKr8OcU5",
      "authorship_tag": "ABX9TyPOSeA5mOytGKWYlIEYQgo4",
      "include_colab_link": true
    },
    "kernelspec": {
      "name": "python3",
      "display_name": "Python 3"
    },
    "language_info": {
      "name": "python"
    }
  },
  "cells": [
    {
      "cell_type": "markdown",
      "metadata": {
        "id": "view-in-github",
        "colab_type": "text"
      },
      "source": [
        "<a href=\"https://colab.research.google.com/github/DPonirakis/pyNoiseAnalyzer/blob/main/pam2pyBroadband.ipynb\" target=\"_parent\"><img src=\"https://colab.research.google.com/assets/colab-badge.svg\" alt=\"Open In Colab\"/></a>"
      ]
    },
    {
      "cell_type": "code",
      "metadata": {
        "id": "2BorlDTLE4dC"
      },
      "source": [
        "# Computes calibrated acoustic spectra from (lossless) digital audio files.\n",
        "# Adapted from PG_Func.m, by Nathan D. Merchant\n",
        "\n",
        "#WAV format             Min       Max        NumPy dtype\n",
        "#32-bit floating-point -1.0      +1.0        float32\n",
        "#32-bit integer PCM  -2147483648 +2147483647 int32\n",
        "#24-bit integer PCM  -2147483648 +2147483392 int32\n",
        "#16-bit integer PCM  -32768      +32767      int16\n",
        "# 8-bit integer PCM   0           255        uint8\n",
        "\n",
        "import numpy as np\n",
        "import scipy as sp\n",
        "import soundfile as sf\n",
        "import warnings\n",
        "warnings.filterwarnings(\"ignore\", message=\"numpy.dtype size changed\")\n",
        "warnings.filterwarnings(\"ignore\", message=\"numpy.ufunc size changed\")"
      ],
      "execution_count": null,
      "outputs": []
    },
    {
      "cell_type": "code",
      "metadata": {
        "id": "aIfx3nnJJXW3"
      },
      "source": [
        "#======================================================================\n",
        "A = []\n",
        "f = []\n",
        "t = []\n",
        "#======================================================================\n",
        "S = 0.0\n",
        "olap = 0.5"
      ],
      "execution_count": null,
      "outputs": []
    },
    {
      "cell_type": "code",
      "metadata": {
        "id": "ouydG_IQJd4I"
      },
      "source": [
        "thesignal, Fs = sf.read('/content/drive/MyDrive/SoundData/PAMguide/WhiteNoise_10s_48kHz_+-0.5.wav',dtype=np.float64) # Let's hope we always get -1 < thedata < 1\n",
        "\n",
        "wlength = 1"
      ],
      "execution_count": null,
      "outputs": []
    },
    {
      "cell_type": "markdown",
      "metadata": {
        "id": "BiVCzm26gKkL"
      },
      "source": [
        ""
      ]
    },
    {
      "cell_type": "code",
      "metadata": {
        "id": "4B_MNQYRJ6eZ"
      },
      "source": [
        "samples_channels = np.squeeze( thesignal.shape )\n",
        "if samples_channels.size == 1:\n",
        "    samples  = samples_channels\n",
        "    channels = 1\n",
        "    xbit     = thesignal; thesignal = []\n",
        "else:\n",
        "    samples  = samples_channels[0]\n",
        "    channels = samples_channels[1]\n",
        "    xbit     = thesignal[0,:]; thesignal = []"
      ],
      "execution_count": null,
      "outputs": []
    },
    {
      "cell_type": "code",
      "metadata": {
        "id": "JSdJfng2KH93"
      },
      "source": [
        "xbit = np.float32( xbit ) # Single precision\n",
        "nyquist = int( Fs/2 )\n",
        "N = int( Fs*wlength )\n",
        "\n",
        "#Mh = -36-120\n",
        "Mh = -200\n",
        "#Vadc = 1.414\n",
        "Vadc = 2\n",
        "#G = 0\n",
        "G = 0\n",
        "\n",
        "lcut = 1\n",
        "hcut = nyquist\n",
        "\n",
        "winname = 'Hann'\n",
        "\n",
        "#pref = 20\n",
        "pref = 1"
      ],
      "execution_count": null,
      "outputs": []
    },
    {
      "cell_type": "code",
      "metadata": {
        "id": "Nb5HtMDN-cPY"
      },
      "source": [
        "S = Mh + G + 20*np.log10(1/Vadc)\n"
      ],
      "execution_count": null,
      "outputs": []
    },
    {
      "cell_type": "code",
      "metadata": {
        "id": "PhS8a83aLC6X"
      },
      "source": [
        "xl = len(xbit)\n",
        "\n"
      ],
      "execution_count": null,
      "outputs": []
    },
    {
      "cell_type": "markdown",
      "metadata": {
        "id": "8DRqs2Yyg5Tn"
      },
      "source": [
        "# Mimic MATLAB routine to generate buffer array"
      ]
    },
    {
      "cell_type": "code",
      "metadata": {
        "id": "yZf0xl1bMO1R"
      },
      "source": [
        "def buffer(X, n, p=0, opt=None):\n",
        "    '''Mimic MATLAB routine to generate buffer array\n",
        "\n",
        "    MATLAB docs here: https://se.mathworks.com/help/signal/ref/buffer.html\n",
        "\n",
        "    Parameters\n",
        "    ----------\n",
        "    x: ndarray\n",
        "        Signal array\n",
        "    n: int\n",
        "        Number of data segments\n",
        "    p: int\n",
        "        Number of values to overlap\n",
        "    opt: str\n",
        "        Initial condition options. default sets the first `p` values to zero,\n",
        "        while 'nodelay' begins filling the buffer immediately.\n",
        "\n",
        "    Returns\n",
        "    -------\n",
        "    result : (n,n) ndarray\n",
        "        Buffer array created from X\n",
        "    '''\n",
        "\n",
        "    n = int(n)\n",
        "\n",
        "    import numpy as np\n",
        "\n",
        "    if opt not in [None, 'nodelay']:\n",
        "        raise ValueError('{} not implemented'.format(opt))\n",
        "\n",
        "    i = 0\n",
        "    first_iter = True\n",
        "    while i < len(X):\n",
        "        if first_iter:\n",
        "            if opt == 'nodelay':\n",
        "                # No zeros at array start\n",
        "                result = X[:n]\n",
        "                i = n\n",
        "            else:\n",
        "                # Start with `p` zeros\n",
        "                result = np.hstack([np.zeros(p), X[:n-p]])\n",
        "                i = n-p\n",
        "            # Make 2D array and pivot\n",
        "            result = np.expand_dims(result, axis=0).T\n",
        "            first_iter = False\n",
        "            continue\n",
        "\n",
        "        # Create next column, add `p` results from last col if given\n",
        "        col = X[i:i+int(np.floor(n-p))]\n",
        "        if p != 0:\n",
        "            col = np.hstack([result[:,-1][-p:], col])\n",
        "        i += n-p\n",
        "\n",
        "        # Append zeros if last row and not length `n`\n",
        "        if len(col) < n:\n",
        "            col = np.hstack([col, np.zeros(n-len(col))])\n",
        "\n",
        "        # Combine result with next row\n",
        "        result = np.hstack([result, np.expand_dims(col, axis=0).T])\n",
        "\n",
        "    return result"
      ],
      "execution_count": null,
      "outputs": []
    },
    {
      "cell_type": "code",
      "metadata": {
        "colab": {
          "base_uri": "https://localhost:8080/"
        },
        "id": "kJC8HyFjMQ0m",
        "outputId": "e9ed865e-966e-4db8-bdf9-b1fd4c720b5d"
      },
      "source": [
        "#xbit[N:]\n",
        "np.ceil(N*olap)\n",
        "xgrid = buffer(xbit,N,int(np.ceil(N*olap)),'nodelay')\n",
        "xgrid = np.transpose(xgrid)\n",
        "\n",
        "np.shape(xgrid)\n"
      ],
      "execution_count": null,
      "outputs": [
        {
          "output_type": "execute_result",
          "data": {
            "text/plain": [
              "(19, 48000)"
            ]
          },
          "metadata": {},
          "execution_count": 9
        }
      ]
    },
    {
      "cell_type": "code",
      "metadata": {
        "colab": {
          "base_uri": "https://localhost:8080/"
        },
        "id": "y78REJVrlCmT",
        "outputId": "c3bde5c1-b8d4-4c88-ce28-4b6800836e4e"
      },
      "source": [
        "M = len(xgrid[:,1])\n",
        "M"
      ],
      "execution_count": null,
      "outputs": [
        {
          "output_type": "execute_result",
          "data": {
            "text/plain": [
              "19"
            ]
          },
          "metadata": {},
          "execution_count": 10
        }
      ]
    },
    {
      "cell_type": "markdown",
      "metadata": {
        "id": "xexN8XDIX6lw"
      },
      "source": [
        "# Equation (6) - Create a Hann Window"
      ]
    },
    {
      "cell_type": "code",
      "metadata": {
        "id": "3Mxb-Zh0Ufy7"
      },
      "source": [
        "#create a Hann window\n",
        "\n",
        "w = (0.5 - 0.5*np.cos(2*np.pi*np.linspace(1,N,N)/N))\n",
        "alpha = 0.5 #scaling factor"
      ],
      "execution_count": null,
      "outputs": []
    },
    {
      "cell_type": "code",
      "metadata": {
        "colab": {
          "base_uri": "https://localhost:8080/",
          "height": 265
        },
        "id": "TrwDO977V6jx",
        "outputId": "6da7a8ee-c703-409c-e331-a382c4ede5f7"
      },
      "source": [
        "import matplotlib.pyplot as plt\n",
        "\n",
        "plt.plot(w, linestyle = 'dotted')\n",
        "plt.show()"
      ],
      "execution_count": null,
      "outputs": [
        {
          "output_type": "display_data",
          "data": {
            "image/png": "[encoded data removed]",
            "text/plain": [
              "<Figure size 432x288 with 1 Axes>"
            ]
          },
          "metadata": {
            "needs_background": "light"
          }
        }
      ]
    },
    {
      "cell_type": "markdown",
      "metadata": {
        "id": "PEWbON74YDvC"
      },
      "source": [
        "# Multiply Segments by Window Function (Hann)"
      ]
    },
    {
      "cell_type": "code",
      "metadata": {
        "id": "VcSXMM5mWCnS"
      },
      "source": [
        "xgrid = xgrid*np.tile(w/alpha,[M,1])"
      ],
      "execution_count": null,
      "outputs": []
    },
    {
      "cell_type": "code",
      "metadata": {
        "colab": {
          "base_uri": "https://localhost:8080/",
          "height": 265
        },
        "id": "nfQrXVVvW8_j",
        "outputId": "409ff5e7-5eac-4af2-b5d8-2638854c2323"
      },
      "source": [
        "plt.plot(xgrid[M-1,:], linestyle = '-')\n",
        "plt.show()"
      ],
      "execution_count": null,
      "outputs": [
        {
          "output_type": "display_data",
          "data": {
            "image/png": "[encoded data removed]",
            "text/plain": [
              "<Figure size 432x288 with 1 Axes>"
            ]
          },
          "metadata": {
            "needs_background": "light"
          }
        }
      ]
    },
    {
      "cell_type": "markdown",
      "metadata": {
        "id": "Kkh00LhgZJ-I"
      },
      "source": [
        "# Equation (7) - Compute DFT"
      ]
    },
    {
      "cell_type": "code",
      "metadata": {
        "colab": {
          "base_uri": "https://localhost:8080/"
        },
        "id": "kbc0dOE2XerG",
        "outputId": "69f242dd-ae09-4495-93fa-43e580c46c2c"
      },
      "source": [
        "X = abs(sp.fft.fft(xgrid))\n",
        "\n",
        "np.shape(X)"
      ],
      "execution_count": 35,
      "outputs": [
        {
          "output_type": "execute_result",
          "data": {
            "text/plain": [
              "(19, 48000)"
            ]
          },
          "metadata": {},
          "execution_count": 35
        }
      ]
    },
    {
      "cell_type": "markdown",
      "metadata": {
        "id": "NTu-d9gMZoZm"
      },
      "source": [
        "# Equation (8) - Compute Power Spectrum\n"
      ]
    },
    {
      "cell_type": "code",
      "metadata": {
        "colab": {
          "base_uri": "https://localhost:8080/"
        },
        "id": "LzFD4QiFZvXD",
        "outputId": "5f43eb9c-6543-4056-9827-cfb9fd2b934c"
      },
      "source": [
        "P = (X/N)**2;                      #power spectrum = square of amplitude\n",
        "\n",
        "np.shape(P)"
      ],
      "execution_count": 36,
      "outputs": [
        {
          "output_type": "execute_result",
          "data": {
            "text/plain": [
              "(19, 48000)"
            ]
          },
          "metadata": {},
          "execution_count": 36
        }
      ]
    },
    {
      "cell_type": "markdown",
      "metadata": {
        "id": "CJVkfHtfZ7vQ"
      },
      "source": [
        "# Equation (9) - Compute single-sided power spectrum\n",
        "\n",
        "remove DC (0 Hz) component and \n",
        "frequencies above Nyquist frequency\n",
        "Fs/2 (index of Fs/2 = N/2+1), divide\n",
        "by noise power bandwidth"
      ]
    },
    {
      "cell_type": "code",
      "metadata": {
        "colab": {
          "base_uri": "https://localhost:8080/"
        },
        "id": "k3fXvmLQaGxG",
        "outputId": "4a411fbc-2eff-4111-9fab-6d81a02e1961"
      },
      "source": [
        "Pss = 2*P[:,1:int(np.floor(N/2)+1)]\n",
        "\n",
        "np.shape(Pss)"
      ],
      "execution_count": 37,
      "outputs": [
        {
          "output_type": "execute_result",
          "data": {
            "text/plain": [
              "(19, 24000)"
            ]
          },
          "metadata": {},
          "execution_count": 37
        }
      ]
    },
    {
      "cell_type": "markdown",
      "metadata": {
        "id": "hYPWfETYe0BR"
      },
      "source": [
        "# compute frequencies of DFT bins"
      ]
    },
    {
      "cell_type": "code",
      "metadata": {
        "colab": {
          "base_uri": "https://localhost:8080/"
        },
        "id": "M81uIj-Qe6SO",
        "outputId": "404cf95d-d2dd-4ad2-e4ce-e4084b191792"
      },
      "source": [
        "f = np.floor(Fs/2)*np.linspace(1/(N/2),1,int(N/2))\n",
        "\n",
        "f\n",
        "\n",
        "np.shape(f)"
      ],
      "execution_count": 38,
      "outputs": [
        {
          "output_type": "execute_result",
          "data": {
            "text/plain": [
              "(24000,)"
            ]
          },
          "metadata": {},
          "execution_count": 38
        }
      ]
    },
    {
      "cell_type": "code",
      "metadata": {
        "colab": {
          "base_uri": "https://localhost:8080/"
        },
        "id": "9BtQUyxKN48v",
        "outputId": "5df6b943-51aa-45b5-f9ec-1c68be9cecfc"
      },
      "source": [
        "flow = np.where((f >= lcut) & (f<=hcut))\n",
        "f = f[flow]\n",
        "nf = len(f)\n",
        "nf"
      ],
      "execution_count": 39,
      "outputs": [
        {
          "output_type": "execute_result",
          "data": {
            "text/plain": [
              "24000"
            ]
          },
          "metadata": {},
          "execution_count": 39
        }
      ]
    },
    {
      "cell_type": "markdown",
      "metadata": {
        "id": "eoaAbRidRqer"
      },
      "source": [
        "# Compute noise power bandwidth and delta(f)"
      ]
    },
    {
      "cell_type": "code",
      "metadata": {
        "colab": {
          "base_uri": "https://localhost:8080/"
        },
        "id": "Tg3NEW5GRuv4",
        "outputId": "7ca433c9-a22b-4f92-89ac-ce6cc2e39335"
      },
      "source": [
        "B = (1/N)*(np.sum((w/alpha)**2))\n",
        "delf = Fs/N\n",
        "\n",
        "print(B)"
      ],
      "execution_count": 40,
      "outputs": [
        {
          "output_type": "stream",
          "name": "stdout",
          "text": [
            "1.5\n"
          ]
        }
      ]
    },
    {
      "cell_type": "code",
      "metadata": {
        "colab": {
          "base_uri": "https://localhost:8080/"
        },
        "id": "aRUYC4uEcXrQ",
        "outputId": "646c24ee-3e9d-4563-fd36-c13194ab8bd4"
      },
      "source": [
        "print(flow[0])"
      ],
      "execution_count": 41,
      "outputs": [
        {
          "output_type": "stream",
          "name": "stdout",
          "text": [
            "[    0     1     2 ... 23997 23998 23999]\n"
          ]
        }
      ]
    },
    {
      "cell_type": "markdown",
      "metadata": {
        "id": "myvoa-8JSRv1"
      },
      "source": [
        "# Equation (17) - Convert to dB [Broadband]\n",
        "\n"
      ]
    },
    {
      "cell_type": "code",
      "metadata": {
        "colab": {
          "base_uri": "https://localhost:8080/"
        },
        "id": "k6a8RCwCSWnI",
        "outputId": "944f87e8-8ae6-40a3-c3a6-ee5f4c917ca0"
      },
      "source": [
        "a = 10*np.log10(np.sum(Pss[:,flow],2)/(pref**2))-S\n",
        "a"
      ],
      "execution_count": 42,
      "outputs": [
        {
          "output_type": "execute_result",
          "data": {
            "text/plain": [
              "array([[196.95670066],\n",
              "       [197.03273978],\n",
              "       [197.01293063],\n",
              "       [197.00300977],\n",
              "       [197.00089877],\n",
              "       [196.9795756 ],\n",
              "       [196.99417717],\n",
              "       [196.96083291],\n",
              "       [197.02834029],\n",
              "       [196.97382791],\n",
              "       [197.02253275],\n",
              "       [197.00338762],\n",
              "       [196.96701469],\n",
              "       [197.00776351],\n",
              "       [196.99800037],\n",
              "       [197.0043502 ],\n",
              "       [196.99876259],\n",
              "       [196.96904126],\n",
              "       [196.98255289]])"
            ]
          },
          "metadata": {},
          "execution_count": 42
        }
      ]
    },
    {
      "cell_type": "markdown",
      "metadata": {
        "id": "tfJiRQgZTz7j"
      },
      "source": [
        "# Compute Time Vector"
      ]
    },
    {
      "cell_type": "code",
      "metadata": {
        "colab": {
          "base_uri": "https://localhost:8080/"
        },
        "id": "DPXGW4DGT4-q",
        "outputId": "01a250fd-8e1d-4d03-effe-b8bcdb24b983"
      },
      "source": [
        "tint = (1-olap)*N/Fs\n",
        "ttot = M*tint-tint\n",
        "t = np.linspace(0,ttot,int(ttot/tint+1))\n",
        "t"
      ],
      "execution_count": 43,
      "outputs": [
        {
          "output_type": "execute_result",
          "data": {
            "text/plain": [
              "array([0. , 0.5, 1. , 1.5, 2. , 2.5, 3. , 3.5, 4. , 4.5, 5. , 5.5, 6. ,\n",
              "       6.5, 7. , 7.5, 8. , 8.5, 9. ])"
            ]
          },
          "metadata": {},
          "execution_count": 43
        }
      ]
    },
    {
      "cell_type": "markdown",
      "metadata": {
        "id": "rZ90P_J8VaRB"
      },
      "source": [
        "# Construct and output array"
      ]
    },
    {
      "cell_type": "code",
      "metadata": {
        "colab": {
          "base_uri": "https://localhost:8080/"
        },
        "id": "L4oHRPJXVi8X",
        "outputId": "03623cde-580d-45c9-df10-7a2738182958"
      },
      "source": [
        "a = np.ndarray.flatten(a)\n",
        "A = np.column_stack((t,np.around(a,1)))\n",
        "\n",
        "print(A)"
      ],
      "execution_count": 44,
      "outputs": [
        {
          "output_type": "stream",
          "name": "stdout",
          "text": [
            "[[  0.  197. ]\n",
            " [  0.5 197. ]\n",
            " [  1.  197. ]\n",
            " [  1.5 197. ]\n",
            " [  2.  197. ]\n",
            " [  2.5 197. ]\n",
            " [  3.  197. ]\n",
            " [  3.5 197. ]\n",
            " [  4.  197. ]\n",
            " [  4.5 197. ]\n",
            " [  5.  197. ]\n",
            " [  5.5 197. ]\n",
            " [  6.  197. ]\n",
            " [  6.5 197. ]\n",
            " [  7.  197. ]\n",
            " [  7.5 197. ]\n",
            " [  8.  197. ]\n",
            " [  8.5 197. ]\n",
            " [  9.  197. ]]\n"
          ]
        }
      ]
    },
    {
      "cell_type": "markdown",
      "metadata": {
        "id": "2TApbN5CfJba"
      },
      "source": [
        "# Plot the Data"
      ]
    },
    {
      "cell_type": "code",
      "metadata": {
        "id": "IO9mfytnfNu-",
        "colab": {
          "base_uri": "https://localhost:8080/",
          "height": 295
        },
        "outputId": "5692a1e1-bbc4-4f48-e633-1bd311da1068"
      },
      "source": [
        "import matplotlib.pyplot as plt\n",
        "\n",
        "fig, ax = plt.subplots()\n",
        "\n",
        "\n",
        "ax.plot(t,np.around(a,2))\n",
        "ax.ticklabel_format(useOffset=False)\n",
        "\n",
        "plt.xlabel('Time [s]')\n",
        "plt.ylabel(r'SPL [dB re 20 $\\mu$Pa]')\n",
        "plt.title('WhiteNoise_10s_48kHz_+-0.5.wav')\n",
        "\n",
        "plt.show()"
      ],
      "execution_count": 45,
      "outputs": [
        {
          "output_type": "display_data",
          "data": {
            "image/png": "[encoded data removed]",
            "text/plain": [
              "<Figure size 432x288 with 1 Axes>"
            ]
          },
          "metadata": {
            "needs_background": "light"
          }
        }
      ]
    },
    {
      "cell_type": "code",
      "metadata": {
        "id": "DZCeSTOrimfK"
      },
      "source": [
        ""
      ],
      "execution_count": null,
      "outputs": []
    }
  ]
}